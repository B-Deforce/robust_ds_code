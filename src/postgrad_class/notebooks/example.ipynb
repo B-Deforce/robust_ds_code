{
 "cells": [
  {
   "cell_type": "code",
   "execution_count": 5,
   "id": "fb746699",
   "metadata": {},
   "outputs": [],
   "source": [
    "from sklearn.linear_model import LinearRegression\n",
    "from sklearn.datasets import make_regression\n",
    "import numpy as np\n",
    "\n",
    "import torch\n",
    "import torch.nn as nn\n",
    "import torch.optim as optim"
   ]
  },
  {
   "cell_type": "code",
   "execution_count": 2,
   "id": "d2782841",
   "metadata": {},
   "outputs": [],
   "source": [
    "X, y = make_regression()"
   ]
  },
  {
   "cell_type": "markdown",
   "id": "08505b24",
   "metadata": {},
   "source": [
    "# 1. Designing Clean Code with Reusable Structure"
   ]
  },
  {
   "cell_type": "markdown",
   "id": "152db2a7",
   "metadata": {},
   "source": [
    "### Imperative"
   ]
  },
  {
   "cell_type": "code",
   "execution_count": 3,
   "id": "57f3d031",
   "metadata": {},
   "outputs": [],
   "source": [
    "# no structure, hard to reuse/maintain\n",
    "model = LinearRegression()\n",
    "\n",
    "model.fit(X, y)\n",
    "\n",
    "preds = model.predict(X)"
   ]
  },
  {
   "cell_type": "markdown",
   "id": "5ef60db5",
   "metadata": {},
   "source": [
    "What if I want to:\n",
    "* add some print statements\n",
    "* store predictions as an attribute\n",
    "* add option to plot in predict method\n",
    "* add option to save the model in predict method\n",
    "* ..."
   ]
  },
  {
   "cell_type": "markdown",
   "id": "df7837d7",
   "metadata": {},
   "source": [
    "### OOP"
   ]
  },
  {
   "cell_type": "code",
   "execution_count": 30,
   "id": "a7e46e35",
   "metadata": {},
   "outputs": [],
   "source": [
    "# easier to maintain/extend and read\n",
    "class LinearModel:\n",
    "    def __init__(self):\n",
    "        self.model = LinearRegression()\n",
    "\n",
    "    def fit(self, X, y):\n",
    "        self.model.fit(X, y)\n",
    "\n",
    "    def predict(self, X):\n",
    "        return self.model.predict(X)"
   ]
  },
  {
   "cell_type": "code",
   "execution_count": 31,
   "id": "a67a44e0",
   "metadata": {},
   "outputs": [],
   "source": [
    "model = LinearModel()\n",
    "\n",
    "model.fit(X, y)\n",
    "\n",
    "preds = model.predict(X)"
   ]
  },
  {
   "cell_type": "markdown",
   "id": "f8a28c61",
   "metadata": {},
   "source": [
    "#### Simple NN"
   ]
  },
  {
   "cell_type": "code",
   "execution_count": null,
   "id": "124c8355",
   "metadata": {},
   "outputs": [],
   "source": [
    "class SimpleNNModel:\n",
    "    def __init__(self, input_dim, hidden_dim=16, lr=1e-3):\n",
    "        self.model = nn.Sequential(\n",
    "            nn.Linear(input_dim, hidden_dim),\n",
    "            nn.ReLU(),\n",
    "            nn.Linear(hidden_dim, 1)\n",
    "        )\n",
    "        self.loss_fn = nn.MSELoss()\n",
    "        self.optimizer = optim.Adam(self.model.parameters(), lr=lr)\n",
    "\n",
    "    def fit(self, X, y, epochs=100, verbose=True):\n",
    "        X = torch.tensor(X, dtype=torch.float32)\n",
    "        y = torch.tensor(y, dtype=torch.float32).view(-1, 1)\n",
    "\n",
    "        for epoch in range(epochs):\n",
    "            self.model.train()\n",
    "            preds = self.model(X)\n",
    "            loss = self.loss_fn(preds, y)\n",
    "\n",
    "            self.optimizer.zero_grad()\n",
    "            loss.backward()\n",
    "            self.optimizer.step()\n",
    "\n",
    "            if verbose and epoch % 10 == 0:\n",
    "                print(f\"Epoch {epoch}, Loss: {loss.item():.4f}\")\n",
    "\n",
    "    def predict(self, X):\n",
    "        self.model.eval()\n",
    "        X = torch.tensor(X, dtype=torch.float32)\n",
    "        with torch.no_grad():\n",
    "            preds = self.model(X).numpy().flatten()\n",
    "        self.predictions = preds\n",
    "        return preds"
   ]
  },
  {
   "cell_type": "markdown",
   "id": "2b14e954",
   "metadata": {},
   "source": [
    "##### What if someone:"
   ]
  },
  {
   "cell_type": "markdown",
   "id": "599a196e",
   "metadata": {},
   "source": [
    "* does not follow our structure and uses a different naming convention?\n",
    "\n",
    "![image](images/derp.png)"
   ]
  },
  {
   "cell_type": "markdown",
   "id": "b993665a",
   "metadata": {},
   "source": [
    "### OOP with ABC"
   ]
  },
  {
   "cell_type": "code",
   "execution_count": 3,
   "id": "8783d295",
   "metadata": {},
   "outputs": [],
   "source": [
    "from abc import ABC, abstractmethod\n",
    "\n",
    "class BaseModel(ABC):\n",
    "\n",
    "    @abstractmethod\n",
    "    def fit(self, X, y):\n",
    "        \"\"\"Train the model using input features X and target y.\"\"\"\n",
    "        pass\n",
    "\n",
    "    @abstractmethod\n",
    "    def predict(self, X):\n",
    "        \"\"\"Generate predictions for input features X.\"\"\"\n",
    "        pass\n",
    "\n",
    "    @abstractmethod\n",
    "    def score(self, X, y):\n",
    "        \"\"\"Optional: Return a default scoring metric (e.g., MSE).\"\"\"\n",
    "        preds = self.predict(X)\n",
    "        return ((preds - y) ** 2).mean()\n",
    "\n"
   ]
  },
  {
   "cell_type": "markdown",
   "id": "4c9e8ee5",
   "metadata": {},
   "source": [
    "# 2. Readable, Safe, and Maintainable Code"
   ]
  },
  {
   "cell_type": "markdown",
   "id": "0c223d4a",
   "metadata": {},
   "source": [
    "What if someone:\n",
    "- passes the wrong type?\n",
    "- uses the neural network assuming the input should be a tensor?"
   ]
  },
  {
   "cell_type": "markdown",
   "id": "11a7da8b",
   "metadata": {},
   "source": [
    "### Beartype"
   ]
  },
  {
   "cell_type": "code",
   "execution_count": 4,
   "id": "4ceeb640",
   "metadata": {},
   "outputs": [],
   "source": [
    "from beartype import beartype"
   ]
  },
  {
   "cell_type": "code",
   "execution_count": null,
   "id": "59492be1",
   "metadata": {},
   "outputs": [],
   "source": [
    "## Show live solution\n",
    "\n",
    "# ..."
   ]
  },
  {
   "cell_type": "code",
   "execution_count": 20,
   "id": "8b47b122",
   "metadata": {},
   "outputs": [
    {
     "name": "stdout",
     "output_type": "stream",
     "text": [
      "Epoch 0, Loss: 13397.9111\n",
      "Epoch 10, Loss: 13365.1367\n",
      "Epoch 20, Loss: 13332.0967\n",
      "Epoch 30, Loss: 13295.9834\n",
      "Epoch 40, Loss: 13254.6553\n",
      "Epoch 50, Loss: 13206.3633\n",
      "Epoch 60, Loss: 13149.3584\n",
      "Epoch 70, Loss: 13082.6914\n",
      "Epoch 80, Loss: 13003.7676\n",
      "Epoch 90, Loss: 12912.2354\n"
     ]
    }
   ],
   "source": [
    "model = SimpleNNModel(input_dim=X.shape[1], hidden_dim=16, lr=1e-3)\n",
    "\n",
    "model.fit(X, y)\n",
    "\n",
    "preds = model.predict(X)"
   ]
  },
  {
   "cell_type": "markdown",
   "id": "c1290b45",
   "metadata": {},
   "source": [
    "### Final Version"
   ]
  },
  {
   "cell_type": "code",
   "execution_count": null,
   "id": "2f2d6e97",
   "metadata": {},
   "outputs": [],
   "source": [
    "@beartype\n",
    "class SimpleNNModel:\n",
    "    \"\"\"A simple feedforward neural network model for regression tasks.\n",
    "\n",
    "    Args:\n",
    "        input_dim (int): Number of input features.\n",
    "        hidden_dim (int, optional): Number of hidden units in the first layer. Default is 16.\n",
    "        lr (float, optional): Learning rate for the optimizer. Default is 1e-3.\n",
    "    \"\"\"\n",
    "\n",
    "    def __init__(self, input_dim: int, hidden_dim: int | None = 16, lr: float | None = 1e-3):\n",
    "        \"\"\"Initialize the model, loss function, and optimizer.\"\"\"\n",
    "        self.model = nn.Sequential(\n",
    "            nn.Linear(input_dim, hidden_dim),\n",
    "            nn.ReLU(),\n",
    "            nn.Linear(hidden_dim, 1)\n",
    "        )\n",
    "        self.loss_fn = nn.MSELoss()\n",
    "        self.optimizer = optim.Adam(self.model.parameters(), lr=lr)\n",
    "\n",
    "    def fit(self, X: np.ndarray, y: np.ndarray, epochs: int | None = 100, verbose: bool | None = True) -> None:\n",
    "        \"\"\"Train the model using input features X and target y.\n",
    "\n",
    "        Args:\n",
    "            X (np.ndarray): Input features.\n",
    "            y (np.ndarray): Target variable.\n",
    "            epochs (int, optional): Number of training epochs. Default is 100.\n",
    "            verbose (bool, optional): If True, print loss every 10 epochs. Default is True.\n",
    "        Returns:\n",
    "            None\n",
    "        \"\"\"\n",
    "        X = torch.tensor(X, dtype=torch.float32)\n",
    "        y = torch.tensor(y, dtype=torch.float32).view(-1, 1)\n",
    "\n",
    "        for epoch in range(epochs):\n",
    "            self.model.train()\n",
    "            preds = self.model(X)\n",
    "            loss = self.loss_fn(preds, y)\n",
    "\n",
    "            self.optimizer.zero_grad()\n",
    "            loss.backward()\n",
    "            self.optimizer.step()\n",
    "\n",
    "            if verbose and epoch % 10 == 0:\n",
    "                print(f\"Epoch {epoch}, Loss: {loss.item():.4f}\")\n",
    "\n",
    "    def predict(self, X: np.ndarray) -> np.ndarray:\n",
    "        \"\"\"Generate predictions for input features X.\n",
    "        \n",
    "        Args:\n",
    "            X (np.ndarray): Input features.\n",
    "        Returns:\n",
    "            np.ndarray: Predicted values.\n",
    "        \"\"\"\n",
    "        self.model.eval()\n",
    "        X = torch.tensor(X, dtype=torch.float32)\n",
    "        with torch.no_grad():\n",
    "            preds = self.model(X).numpy().flatten()\n",
    "        self.predictions = preds\n",
    "        return preds"
   ]
  }
 ],
 "metadata": {
  "jupytext": {
   "formats": "ipynb,py:percent"
  },
  "kernelspec": {
   "display_name": "Python 3 (ipykernel)",
   "language": "python",
   "name": "python3"
  }
 },
 "nbformat": 4,
 "nbformat_minor": 5
}
